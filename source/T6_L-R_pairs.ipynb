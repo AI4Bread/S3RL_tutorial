{
 "cells": [
  {
   "cell_type": "markdown",
   "metadata": {},
   "source": [
    "# Tutorial 5: L-R pairs analysis"
   ]
  },
  {
   "cell_type": "markdown",
   "metadata": {},
   "source": [
    "The Nanostring CosMx Spatial Molecular Imaging (SMI) dataset used in this analysis was obtained from the official Nanostring repository: https://nanostring.com/products/cosmx-spatial-molecular-imager/nsclc-ffpe-dataset/. For L-R interaction analysis, we used a curated ligand-receptor pair list that combines entries from the SiGra framework and the IUPHAR/BPS Guide to PHARMACOLOGY database."
   ]
  },
  {
   "cell_type": "code",
   "execution_count": 7,
   "metadata": {},
   "outputs": [],
   "source": [
    "import os\n",
    "import torch\n",
    "import pandas as pd\n",
    "import scanpy as sc\n",
    "from sklearn import metrics\n",
    "from GraphST import GraphST\n",
    "\n",
    "device = torch.device('cuda:1')"
   ]
  },
  {
   "cell_type": "markdown",
   "metadata": {},
   "source": [
    "LR PAIR"
   ]
  },
  {
   "cell_type": "code",
   "execution_count": 1,
   "metadata": {},
   "outputs": [],
   "source": [
    "import pandas as pd\n",
    "import numpy as np\n",
    "import matplotlib.pyplot as plt\n",
    "import seaborn as sns\n",
    "from scipy.stats import ttest_rel\n",
    "# this function is from scipy 1.11\n",
    "def fdr(ps, *, axis=0, method='bh'):\n",
    "    # Input Validation and Special Cases\n",
    "    ps = np.asarray(ps)\n",
    "\n",
    "    ps_in_range = (np.issubdtype(ps.dtype, np.number)\n",
    "                   and np.all(ps == np.clip(ps, 0, 1)))\n",
    "    if not ps_in_range:\n",
    "        raise ValueError(\"`ps` must include only numbers between 0 and 1.\")\n",
    "\n",
    "    methods = {'bh', 'by'}\n",
    "    if method.lower() not in methods:\n",
    "        raise ValueError(f\"Unrecognized `method` '{method}'.\"\n",
    "                         f\"Method must be one of {methods}.\")\n",
    "    method = method.lower()\n",
    "\n",
    "    if axis is None:\n",
    "        axis = 0\n",
    "        ps = ps.ravel()\n",
    "\n",
    "    axis = np.asarray(axis)[()]\n",
    "    if not np.issubdtype(axis.dtype, np.integer) or axis.size != 1:\n",
    "        raise ValueError(\"`axis` must be an integer or `None`\")\n",
    "\n",
    "    if ps.size <= 1 or ps.shape[axis] <= 1:\n",
    "        return ps[()]\n",
    "\n",
    "    ps = np.moveaxis(ps, axis, -1)\n",
    "    m = ps.shape[-1]\n",
    "    order = np.argsort(ps, axis=-1)\n",
    "    ps = np.take_along_axis(ps, order, axis=-1)  # this copies ps\n",
    "    i = np.arange(1, m+1)\n",
    "    ps *= m / i\n",
    "\n",
    "    # Theorem 1.3 of [2]\n",
    "    if method == 'by':\n",
    "        ps *= np.sum(1 / i)\n",
    "    np.minimum.accumulate(ps[..., ::-1], out=ps[..., ::-1], axis=-1)\n",
    "\n",
    "    # Restore original order of axes and data\n",
    "    np.put_along_axis(ps, order, values=ps.copy(), axis=-1)\n",
    "    ps = np.moveaxis(ps, -1, axis)\n",
    "\n",
    "    return np.clip(ps, 0, 1)"
   ]
  },
  {
   "cell_type": "code",
   "execution_count": 2,
   "metadata": {},
   "outputs": [
    {
     "name": "stdout",
     "output_type": "stream",
     "text": [
      "Total number of pairs: 2097\n",
      "Number of pair1 693\n",
      "Number of pair2 620\n",
      "Number of pair1 189\n",
      "Number of pair2 159\n",
      "Total number of pairs: 480\n"
     ]
    }
   ],
   "source": [
    "nano_gene = pd.read_csv('../Nanostring/all_in_one.csv')\n",
    "\n",
    "gene_col = nano_gene.columns[-980:].to_list()\n",
    "gene_col = [i.lower() for i in gene_col]\n",
    "\n",
    "lr_pairs = pd.read_csv('../mergeall_LR_pairs_uniq.csv')\n",
    "lr_pairs = lr_pairs.drop_duplicates()\n",
    "print('Total number of pairs:', lr_pairs.shape[0])\n",
    "lr_pairs['pair1'] = lr_pairs['Pair.Name'].apply(lambda x: x.split('_')[0].lower())\n",
    "lr_pairs['pair2'] = lr_pairs['Pair.Name'].apply(lambda x: x.split('_')[1].lower())\n",
    "print('Number of pair1', lr_pairs['pair1'].unique().shape[0])\n",
    "print('Number of pair2', lr_pairs['pair2'].unique().shape[0])\n",
    "\n",
    "# only keep those rows that both 'pair1' and 'pair2' in gene_col\n",
    "lr_pairs = lr_pairs[lr_pairs['pair1'].isin(gene_col) & lr_pairs['pair2'].isin(gene_col)]\n",
    "print('Number of pair1', lr_pairs['pair1'].unique().shape[0])\n",
    "print('Number of pair2', lr_pairs['pair2'].unique().shape[0])\n",
    "print('Total number of pairs:', lr_pairs.shape[0])"
   ]
  },
  {
   "cell_type": "code",
   "execution_count": 4,
   "metadata": {},
   "outputs": [],
   "source": [
    "# label_map = {'Tumors': 0, 'Fibroblast': 1, 'Lymphocyte': 2, 'Mcell': 3, 'Neutrophil': 4, 'Endothelial': 5, 'Epithelial': 6, 'Mast': 7}\n",
    "label_map = {'tumors': 0, 'fibroblast': 1, 'lymphocyte': 2, 'Mcell': 3, 'neutrophil': 4, 'endothelial': 5, 'epithelial': 6, 'mast': 7}\n",
    "\n",
    "def load_Nano_data(id, root_path='./'):\n",
    "    data = pd.read_csv(os.path.join(root_path, 'all_in_one.csv'))\n",
    "    gene_feature_col = pd.read_csv(os.path.join(root_path, 'Lung9_Rep1_exprMat_file.csv')).columns[2:] #980 gene-related features \n",
    "\n",
    "    y = data[data['fov'] == id]['cell_type'] # the cell type is string type\n",
    "    y = y.map(label_map).to_numpy()\n",
    "\n",
    "    gene_fea = data[data['fov'] == id][gene_feature_col].to_numpy().astype(float)\n",
    "    \n",
    "    return gene_fea, y, np.array([data[data['fov'] == id]['CenterY_local_px'], data[data['fov'] == id]['CenterX_local_px']]).T, gene_feature_col"
   ]
  },
  {
   "cell_type": "code",
   "execution_count": 8,
   "metadata": {},
   "outputs": [
    {
     "name": "stdout",
     "output_type": "stream",
     "text": [
      "Begin to train ST data...\n"
     ]
    },
    {
     "name": "stderr",
     "output_type": "stream",
     "text": [
      "100%|██████████| 600/600 [00:05<00:00, 100.29it/s]\n"
     ]
    },
    {
     "name": "stdout",
     "output_type": "stream",
     "text": [
      "Optimization finished for ST data!\n",
      "1\n",
      "Begin to train ST data...\n"
     ]
    },
    {
     "name": "stderr",
     "output_type": "stream",
     "text": [
      "100%|██████████| 600/600 [00:04<00:00, 134.51it/s]\n"
     ]
    },
    {
     "name": "stdout",
     "output_type": "stream",
     "text": [
      "Optimization finished for ST data!\n",
      "2\n",
      "Begin to train ST data...\n"
     ]
    },
    {
     "name": "stderr",
     "output_type": "stream",
     "text": [
      "100%|██████████| 600/600 [00:04<00:00, 136.50it/s]\n"
     ]
    },
    {
     "name": "stdout",
     "output_type": "stream",
     "text": [
      "Optimization finished for ST data!\n",
      "3\n",
      "Begin to train ST data...\n"
     ]
    },
    {
     "name": "stderr",
     "output_type": "stream",
     "text": [
      "100%|██████████| 600/600 [00:05<00:00, 118.42it/s]\n"
     ]
    },
    {
     "name": "stdout",
     "output_type": "stream",
     "text": [
      "Optimization finished for ST data!\n",
      "4\n",
      "Begin to train ST data...\n"
     ]
    },
    {
     "name": "stderr",
     "output_type": "stream",
     "text": [
      "100%|██████████| 600/600 [00:03<00:00, 185.31it/s]\n"
     ]
    },
    {
     "name": "stdout",
     "output_type": "stream",
     "text": [
      "Optimization finished for ST data!\n",
      "5\n",
      "Begin to train ST data...\n"
     ]
    },
    {
     "name": "stderr",
     "output_type": "stream",
     "text": [
      "100%|██████████| 600/600 [00:03<00:00, 177.79it/s]\n"
     ]
    },
    {
     "name": "stdout",
     "output_type": "stream",
     "text": [
      "Optimization finished for ST data!\n",
      "6\n",
      "Begin to train ST data...\n"
     ]
    },
    {
     "name": "stderr",
     "output_type": "stream",
     "text": [
      "100%|██████████| 600/600 [00:05<00:00, 113.35it/s]\n"
     ]
    },
    {
     "name": "stdout",
     "output_type": "stream",
     "text": [
      "Optimization finished for ST data!\n",
      "7\n",
      "Begin to train ST data...\n"
     ]
    },
    {
     "name": "stderr",
     "output_type": "stream",
     "text": [
      "100%|██████████| 600/600 [00:04<00:00, 149.86it/s]\n"
     ]
    },
    {
     "name": "stdout",
     "output_type": "stream",
     "text": [
      "Optimization finished for ST data!\n",
      "8\n",
      "Begin to train ST data...\n"
     ]
    },
    {
     "name": "stderr",
     "output_type": "stream",
     "text": [
      "100%|██████████| 600/600 [00:03<00:00, 174.02it/s]\n"
     ]
    },
    {
     "name": "stdout",
     "output_type": "stream",
     "text": [
      "Optimization finished for ST data!\n",
      "9\n",
      "Begin to train ST data...\n"
     ]
    },
    {
     "name": "stderr",
     "output_type": "stream",
     "text": [
      "100%|██████████| 600/600 [00:04<00:00, 148.88it/s]\n"
     ]
    },
    {
     "name": "stdout",
     "output_type": "stream",
     "text": [
      "Optimization finished for ST data!\n",
      "10\n",
      "Begin to train ST data...\n"
     ]
    },
    {
     "name": "stderr",
     "output_type": "stream",
     "text": [
      "100%|██████████| 600/600 [00:03<00:00, 155.16it/s]\n"
     ]
    },
    {
     "name": "stdout",
     "output_type": "stream",
     "text": [
      "Optimization finished for ST data!\n",
      "11\n",
      "Begin to train ST data...\n"
     ]
    },
    {
     "name": "stderr",
     "output_type": "stream",
     "text": [
      "100%|██████████| 600/600 [00:03<00:00, 192.98it/s]\n"
     ]
    },
    {
     "name": "stdout",
     "output_type": "stream",
     "text": [
      "Optimization finished for ST data!\n",
      "12\n",
      "Begin to train ST data...\n"
     ]
    },
    {
     "name": "stderr",
     "output_type": "stream",
     "text": [
      "100%|██████████| 600/600 [00:04<00:00, 123.07it/s]\n"
     ]
    },
    {
     "name": "stdout",
     "output_type": "stream",
     "text": [
      "Optimization finished for ST data!\n",
      "13\n",
      "Begin to train ST data...\n"
     ]
    },
    {
     "name": "stderr",
     "output_type": "stream",
     "text": [
      "100%|██████████| 600/600 [00:03<00:00, 156.79it/s]\n"
     ]
    },
    {
     "name": "stdout",
     "output_type": "stream",
     "text": [
      "Optimization finished for ST data!\n",
      "14\n",
      "Begin to train ST data...\n"
     ]
    },
    {
     "name": "stderr",
     "output_type": "stream",
     "text": [
      "100%|██████████| 600/600 [00:03<00:00, 168.38it/s]\n"
     ]
    },
    {
     "name": "stdout",
     "output_type": "stream",
     "text": [
      "Optimization finished for ST data!\n",
      "15\n",
      "Begin to train ST data...\n"
     ]
    },
    {
     "name": "stderr",
     "output_type": "stream",
     "text": [
      "100%|██████████| 600/600 [00:03<00:00, 168.94it/s]\n"
     ]
    },
    {
     "name": "stdout",
     "output_type": "stream",
     "text": [
      "Optimization finished for ST data!\n",
      "16\n",
      "Begin to train ST data...\n"
     ]
    },
    {
     "name": "stderr",
     "output_type": "stream",
     "text": [
      "100%|██████████| 600/600 [00:03<00:00, 150.97it/s]\n"
     ]
    },
    {
     "name": "stdout",
     "output_type": "stream",
     "text": [
      "Optimization finished for ST data!\n",
      "17\n",
      "Begin to train ST data...\n"
     ]
    },
    {
     "name": "stderr",
     "output_type": "stream",
     "text": [
      "100%|██████████| 600/600 [00:03<00:00, 155.58it/s]\n"
     ]
    },
    {
     "name": "stdout",
     "output_type": "stream",
     "text": [
      "Optimization finished for ST data!\n",
      "18\n",
      "Begin to train ST data...\n"
     ]
    },
    {
     "name": "stderr",
     "output_type": "stream",
     "text": [
      "100%|██████████| 600/600 [00:04<00:00, 148.65it/s]\n"
     ]
    },
    {
     "name": "stdout",
     "output_type": "stream",
     "text": [
      "Optimization finished for ST data!\n",
      "19\n",
      "Begin to train ST data...\n"
     ]
    },
    {
     "name": "stderr",
     "output_type": "stream",
     "text": [
      "100%|██████████| 600/600 [00:03<00:00, 179.83it/s]\n"
     ]
    },
    {
     "name": "stdout",
     "output_type": "stream",
     "text": [
      "Optimization finished for ST data!\n",
      "20\n"
     ]
    }
   ],
   "source": [
    "import os\n",
    "import scanpy as sc\n",
    "path = './best_res/Nanostring/'\n",
    "\n",
    "e_specific = []\n",
    "r_specific = []\n",
    "\n",
    "raw_exp = []\n",
    "enhanced_expression_matrix = []\n",
    "\n",
    "for i in range(1, 21):\n",
    "    _raw_exp, gt, loc, gene_col = load_Nano_data(i, root_path='../Nanostring/')\n",
    "    path_ = os.listdir(os.path.join(path, str(i).zfill(3)))[0]\n",
    "    raw_exp.append(_raw_exp)\n",
    "    \n",
    "    file_path = '/home/wudanyang/SC/nanostring_slice/fov' + str(i)\n",
    "    adata = sc.read_h5ad(os.path.join(file_path, 'sampledata.h5ad'))\n",
    "    n_clusters = len(adata.obs['merge_cell_type'].value_counts())\n",
    "    model = GraphST.GraphST(adata, device=device)\n",
    "    adata = model.train()\n",
    "    enhanced_expression_matrix.append(adata.obsm['emb'])\n",
    "    print(i)\n",
    "\n",
    "gene_col = [i.lower() for i in gene_col]\n",
    "raw_exp = np.concatenate(raw_exp, axis=0)\n",
    "enhanced_expression_matrix = np.concatenate(enhanced_expression_matrix, axis=0)"
   ]
  },
  {
   "cell_type": "code",
   "execution_count": 9,
   "metadata": {},
   "outputs": [],
   "source": [
    "# l2 norm \n",
    "raw_exp = raw_exp / np.linalg.norm(raw_exp, axis=1, keepdims=True)\n",
    "raw_expression_matrix = raw_exp\n",
    "raw_expression_matrix = pd.DataFrame(raw_expression_matrix, columns=gene_col)\n",
    "\n",
    "# enhanced_expression_matrix = np.where(enhanced_expression_matrix<0, 0, enhanced_expression_matrix)\n",
    "enhanced_expression_matrix = enhanced_expression_matrix / (np.linalg.norm(enhanced_expression_matrix, axis=1, keepdims=True)+1e-10)\n",
    "enhanced_expression_matrix = pd.DataFrame(enhanced_expression_matrix, columns=gene_col)\n",
    "\n",
    "assert raw_expression_matrix.shape == enhanced_expression_matrix.shape\n",
    "\n",
    "raw_expression_matrix = raw_expression_matrix.T\n",
    "enhanced_expression_matrix = enhanced_expression_matrix.T"
   ]
  },
  {
   "cell_type": "code",
   "execution_count": null,
   "metadata": {},
   "outputs": [
    {
     "name": "stdout",
     "output_type": "stream",
     "text": [
      "[16] [12]\n"
     ]
    }
   ],
   "source": [
    "e_specific = []\n",
    "r_specific = []\n",
    "results = pd.DataFrame(columns=['LR_pair', 'p_value', 'p_value_enhanced'])\n",
    "\n",
    "\n",
    "for id in range(len(lr_pairs)):\n",
    "    ligand_gene = lr_pairs.iloc[id]['pair1']\n",
    "    receptor_gene = lr_pairs.iloc[id]['pair2']\n",
    "    pair = lr_pairs.iloc[id]['Pair.Name']\n",
    "\n",
    "    # Extract expression data\n",
    "    ligand_raw = raw_expression_matrix.loc[ligand_gene]\n",
    "    receptor_raw = raw_expression_matrix.loc[receptor_gene]\n",
    "    ligand_enhanced = enhanced_expression_matrix.loc[ligand_gene]\n",
    "    receptor_enhanced = enhanced_expression_matrix.loc[receptor_gene]\n",
    "\n",
    "    # Perform paired t-test\n",
    "    test_result_raw = ttest_rel(ligand_raw, receptor_raw)\n",
    "    test_result_enhanced = ttest_rel(ligand_enhanced, receptor_enhanced)\n",
    "    results.loc[id] = [pair,test_result_raw[1],test_result_enhanced[1]]\n",
    "\n",
    "# 对原始和增强 p 值进行 FDR 校正\n",
    "results['FDR_raw'] = fdr(results['p_value'])\n",
    "results['FDR_enhanced'] = fdr(results['p_value_enhanced'])\n",
    "\n",
    "# 计算 -log10(FDR) 用于可视化\n",
    "results['logFDR_raw'] = -np.log10(results['FDR_raw'] + 1e-10)\n",
    "results['logFDR_enhanced'] = -np.log10(results['FDR_enhanced'] + 1e-10)\n",
    "\n",
    "# 基于 FDR 判断显著性\n",
    "results['Shared'] = (results['FDR_raw'] < 0.05) & (results['FDR_enhanced'] < 0.05)\n",
    "results['Specific'] = (results['FDR_raw'] < 0.05) | (results['FDR_enhanced'] < 0.05)\n",
    "results['Specific'] = results['Specific'] & (~results['Shared'])\n",
    "\n",
    "results['Not Significant'] = (results['FDR_raw'] >= 0.05) & (results['FDR_enhanced'] >= 0.05)\n",
    "\n",
    "# 将结果合并为 'Shared', 'Specific', 'Not significant' 三类\n",
    "results['pair_type'] = results[['Shared', 'Specific', 'Not Significant']].idxmax(axis=1)\n",
    "\n",
    "# 标记只在增强后显著的配体-受体对\n",
    "results['specific_enhanced'] = (results['FDR_raw'] >= 0.05) & (results['FDR_enhanced'] < 0.05)\n",
    "\n",
    "# 记录数量\n",
    "e_specific.append(results['specific_enhanced'].sum())\n",
    "r_specific.append(results['Specific'].sum() - results['specific_enhanced'].sum())\n",
    "\n",
    "print(e_specific, r_specific)"
   ]
  },
  {
   "cell_type": "code",
   "execution_count": 11,
   "metadata": {},
   "outputs": [],
   "source": [
    "results.to_csv('figs/Nanostring/25-3-17/LR_pair_FDR_SiGra.csv', index=False)"
   ]
  },
  {
   "cell_type": "code",
   "execution_count": 14,
   "metadata": {},
   "outputs": [
    {
     "data": {
      "image/png": "[encoded data removed]",
      "text/plain": [
       "<Figure size 800x400 with 1 Axes>"
      ]
     },
     "metadata": {},
     "output_type": "display_data"
    }
   ],
   "source": [
    "plt.figure(figsize=(8, 4))\n",
    "\n",
    "from matplotlib import colormaps as cm\n",
    "\n",
    "c_list = cm.get_cmap('tab10').colors\n",
    "## 去除legend\n",
    "sns.scatterplot(data=results, x='logFDR_raw', y='logFDR_enhanced', hue='pair_type', \n",
    "                palette={'Shared': c_list[1], 'Specific': c_list[2], 'Not Significant': c_list[0]}, alpha=0.5, legend=False)\n",
    "\n",
    "plt.axhline(y=-np.log10(0.05), linestyle='--', color='grey')\n",
    "plt.axvline(x=-np.log10(0.05), linestyle='--', color='grey')\n",
    "plt.title(\"Scatter plot of L-R pairs\")\n",
    "plt.xlabel(\"-log10(FDR) in raw data\")\n",
    "plt.ylabel(\"-log10(FDR) in enhanced data\")\n",
    "## set legend to outside the plot\n",
    "# plt.legend(title='Pair Type', loc='best', framealpha=0.6)\n",
    "# plt.legend(title='Pair Type', loc='center left', bbox_to_anchor=(1, 0.5))\n",
    "plt.savefig('./figs/Nanostring/LR_pair_visualization_SiGra.png', dpi=500)\n",
    "plt.show()"
   ]
  },
  {
   "cell_type": "code",
   "execution_count": 1,
   "metadata": {},
   "outputs": [],
   "source": [
    "import pandas as pd\n",
    "import numpy as np\n",
    "import matplotlib.pyplot as plt\n",
    "import seaborn as sns\n",
    "from scipy.stats import ttest_rel\n",
    "# this function is from scipy 1.11\n",
    "def fdr(ps, *, axis=0, method='bh'):\n",
    "    # Input Validation and Special Cases\n",
    "    ps = np.asarray(ps)\n",
    "\n",
    "    ps_in_range = (np.issubdtype(ps.dtype, np.number)\n",
    "                   and np.all(ps == np.clip(ps, 0, 1)))\n",
    "    if not ps_in_range:\n",
    "        raise ValueError(\"`ps` must include only numbers between 0 and 1.\")\n",
    "\n",
    "    methods = {'bh', 'by'}\n",
    "    if method.lower() not in methods:\n",
    "        raise ValueError(f\"Unrecognized `method` '{method}'.\"\n",
    "                         f\"Method must be one of {methods}.\")\n",
    "    method = method.lower()\n",
    "\n",
    "    if axis is None:\n",
    "        axis = 0\n",
    "        ps = ps.ravel()\n",
    "\n",
    "    axis = np.asarray(axis)[()]\n",
    "    if not np.issubdtype(axis.dtype, np.integer) or axis.size != 1:\n",
    "        raise ValueError(\"`axis` must be an integer or `None`\")\n",
    "\n",
    "    if ps.size <= 1 or ps.shape[axis] <= 1:\n",
    "        return ps[()]\n",
    "\n",
    "    ps = np.moveaxis(ps, axis, -1)\n",
    "    m = ps.shape[-1]\n",
    "    order = np.argsort(ps, axis=-1)\n",
    "    ps = np.take_along_axis(ps, order, axis=-1)  # this copies ps\n",
    "    i = np.arange(1, m+1)\n",
    "    ps *= m / i\n",
    "\n",
    "    # Theorem 1.3 of [2]\n",
    "    if method == 'by':\n",
    "        ps *= np.sum(1 / i)\n",
    "    np.minimum.accumulate(ps[..., ::-1], out=ps[..., ::-1], axis=-1)\n",
    "\n",
    "    # Restore original order of axes and data\n",
    "    np.put_along_axis(ps, order, values=ps.copy(), axis=-1)\n",
    "    ps = np.moveaxis(ps, -1, axis)\n",
    "\n",
    "    return np.clip(ps, 0, 1)"
   ]
  },
  {
   "cell_type": "code",
   "execution_count": 2,
   "metadata": {},
   "outputs": [
    {
     "name": "stdout",
     "output_type": "stream",
     "text": [
      "(2097, 1)\n",
      "(480, 3)\n"
     ]
    }
   ],
   "source": [
    "nano_gene = pd.read_csv('../Nanostring/all_in_one.csv')\n",
    "\n",
    "gene_col = nano_gene.columns[-980:].to_list()\n",
    "gene_col = [i.lower() for i in gene_col]\n",
    "\n",
    "lr_pairs = pd.read_csv('../mergeall_LR_pairs_uniq.csv')\n",
    "lr_pairs = lr_pairs.drop_duplicates()\n",
    "print(lr_pairs.shape)\n",
    "lr_pairs['pair1'] = lr_pairs['Pair.Name'].apply(lambda x: x.split('_')[0].lower())\n",
    "lr_pairs['pair2'] = lr_pairs['Pair.Name'].apply(lambda x: x.split('_')[1].lower())\n",
    "\n",
    "# only keep those rows can 'pair1' and 'pair2' in gene_col\n",
    "lr_pairs = lr_pairs[lr_pairs['pair1'].isin(gene_col) & lr_pairs['pair2'].isin(gene_col)]\n",
    "print(lr_pairs.shape)"
   ]
  },
  {
   "cell_type": "code",
   "execution_count": 3,
   "metadata": {},
   "outputs": [],
   "source": [
    "# label_map = {'Tumors': 0, 'Fibroblast': 1, 'Lymphocyte': 2, 'Mcell': 3, 'Neutrophil': 4, 'Endothelial': 5, 'Epithelial': 6, 'Mast': 7}\n",
    "label_map = {'tumors': 0, 'fibroblast': 1, 'lymphocyte': 2, 'Mcell': 3, 'neutrophil': 4, 'endothelial': 5, 'epithelial': 6, 'mast': 7}\n",
    "\n",
    "def load_Nano_data(id, root_path='./'):\n",
    "    data = pd.read_csv(os.path.join(root_path, 'all_in_one.csv'))\n",
    "    gene_feature_col = pd.read_csv(os.path.join(root_path, 'Lung9_Rep1_exprMat_file.csv')).columns[2:] #980 gene-related features \n",
    "\n",
    "    y = data[data['fov'] == id]['cell_type'] # the cell type is string type\n",
    "    y = y.map(label_map).to_numpy()\n",
    "\n",
    "    gene_fea = data[data['fov'] == id][gene_feature_col].to_numpy().astype(float)\n",
    "    \n",
    "    return gene_fea, y, np.array([data[data['fov'] == id]['CenterY_local_px'], data[data['fov'] == id]['CenterX_local_px']]).T, gene_feature_col"
   ]
  },
  {
   "cell_type": "code",
   "execution_count": 12,
   "metadata": {},
   "outputs": [
    {
     "name": "stdout",
     "output_type": "stream",
     "text": [
      "1\n",
      "2\n",
      "3\n",
      "4\n",
      "5\n",
      "6\n",
      "7\n",
      "8\n",
      "9\n",
      "10\n",
      "11\n",
      "12\n",
      "13\n",
      "14\n",
      "15\n",
      "16\n",
      "17\n",
      "18\n",
      "19\n",
      "20\n"
     ]
    }
   ],
   "source": [
    "import os\n",
    "import numpy as np\n",
    "\n",
    "path = './best_res/Nanostring/'\n",
    "\n",
    "raw_exp = []\n",
    "enhanced_expression_matrix = []\n",
    "for i in range(1, 21):\n",
    "    _raw_exp, gt, loc, gene_col = load_Nano_data(i, root_path='../Nanostring/')\n",
    "    path_ = os.listdir(os.path.join(path, str(i).zfill(3)))[0]\n",
    "    _enhanced_expression_matrix = np.load(os.path.join(path, str(i).zfill(3), path_, 'recon_RNA.npy'), allow_pickle=True)\n",
    "    raw_exp.append(_raw_exp)\n",
    "    enhanced_expression_matrix.append(_enhanced_expression_matrix)\n",
    "\n",
    "    print(i)\n",
    "\n",
    "gene_col = [i.lower() for i in gene_col]\n",
    "raw_exp = np.concatenate(raw_exp, axis=0)\n",
    "enhanced_expression_matrix = np.concatenate(enhanced_expression_matrix, axis=0)"
   ]
  },
  {
   "cell_type": "code",
   "execution_count": 15,
   "metadata": {},
   "outputs": [],
   "source": [
    "# l2 norm \n",
    "raw_exp = raw_exp / np.linalg.norm(raw_exp, axis=1, keepdims=True)\n",
    "raw_expression_matrix = raw_exp\n",
    "raw_expression_matrix = pd.DataFrame(raw_expression_matrix, columns=gene_col)\n",
    "\n",
    "# enhanced_expression_matrix = np.where(enhanced_expression_matrix<0, 0, enhanced_expression_matrix)\n",
    "enhanced_expression_matrix = enhanced_expression_matrix / (np.linalg.norm(enhanced_expression_matrix, axis=1, keepdims=True)+1e-10)\n",
    "enhanced_expression_matrix = pd.DataFrame(enhanced_expression_matrix, columns=gene_col)\n",
    "\n",
    "assert raw_expression_matrix.shape == enhanced_expression_matrix.shape\n",
    "\n",
    "raw_expression_matrix = raw_expression_matrix.T\n",
    "enhanced_expression_matrix = enhanced_expression_matrix.T"
   ]
  },
  {
   "cell_type": "code",
   "execution_count": 28,
   "metadata": {},
   "outputs": [
    {
     "name": "stdout",
     "output_type": "stream",
     "text": [
      "[21] [6]\n"
     ]
    }
   ],
   "source": [
    "e_specific = []\n",
    "r_specific = []\n",
    "results = pd.DataFrame(columns=['LR_pair', 'p_value', 'p_value_enhanced'])\n",
    "\n",
    "\n",
    "for id in range(len(lr_pairs)):\n",
    "    ligand_gene = lr_pairs.iloc[id]['pair1']\n",
    "    receptor_gene = lr_pairs.iloc[id]['pair2']\n",
    "    pair = lr_pairs.iloc[id]['Pair.Name']\n",
    "\n",
    "    # Extract expression data\n",
    "    ligand_raw = raw_expression_matrix.loc[ligand_gene]\n",
    "    receptor_raw = raw_expression_matrix.loc[receptor_gene]\n",
    "    ligand_enhanced = enhanced_expression_matrix.loc[ligand_gene]\n",
    "    receptor_enhanced = enhanced_expression_matrix.loc[receptor_gene]\n",
    "\n",
    "    # Perform paired t-test\n",
    "    test_result_raw = ttest_rel(ligand_raw, receptor_raw)\n",
    "    test_result_enhanced = ttest_rel(ligand_enhanced, receptor_enhanced)\n",
    "    results.loc[id] = [pair,test_result_raw[1],test_result_enhanced[1]]\n",
    "\n",
    "# 对原始和增强 p 值进行 FDR 校正\n",
    "results['FDR_raw'] = fdr(results['p_value'])\n",
    "results['FDR_enhanced'] = fdr(results['p_value_enhanced'])\n",
    "\n",
    "# 计算 -log10(FDR) 用于可视化\n",
    "results['logFDR_raw'] = -np.log10(results['FDR_raw'] + 1e-10)\n",
    "results['logFDR_enhanced'] = -np.log10(results['FDR_enhanced'] + 1e-10)\n",
    "\n",
    "# 基于 FDR 判断显著性\n",
    "results['Shared'] = (results['FDR_raw'] < 0.05) & (results['FDR_enhanced'] < 0.05)\n",
    "results['Specific'] = (results['FDR_raw'] < 0.05) | (results['FDR_enhanced'] < 0.05)\n",
    "results['Specific'] = results['Specific'] & (~results['Shared'])\n",
    "\n",
    "results['Not Significant'] = (results['FDR_raw'] >= 0.05) & (results['FDR_enhanced'] >= 0.05)\n",
    "\n",
    "# 将结果合并为 'Shared', 'Specific', 'Not significant' 三类\n",
    "results['pair_type'] = results[['Shared', 'Specific', 'Not Significant']].idxmax(axis=1)\n",
    "\n",
    "# 标记只在增强后显著的配体-受体对\n",
    "results['specific_enhanced'] = (results['FDR_raw'] >= 0.05) & (results['FDR_enhanced'] < 0.05)\n",
    "\n",
    "# 记录数量\n",
    "e_specific.append(results['specific_enhanced'].sum())\n",
    "r_specific.append(results['Specific'].sum() - results['specific_enhanced'].sum())\n",
    "\n",
    "print(e_specific, r_specific)"
   ]
  },
  {
   "cell_type": "code",
   "execution_count": 32,
   "metadata": {},
   "outputs": [],
   "source": [
    "results.to_csv('figs/Nanostring/25-3-17/LR_pair_FDR.csv', index=False)"
   ]
  },
  {
   "cell_type": "code",
   "execution_count": null,
   "metadata": {},
   "outputs": [
    {
     "data": {
      "image/png": "[encoded data removed]",
      "text/plain": [
       "<Figure size 800x400 with 1 Axes>"
      ]
     },
     "metadata": {},
     "output_type": "display_data"
    }
   ],
   "source": [
    "plt.figure(figsize=(8, 4))\n",
    "\n",
    "from matplotlib import colormaps as cm\n",
    "\n",
    "c_list = cm.get_cmap('tab10').colors\n",
    "\n",
    "sns.scatterplot(data=results, x='logFDR_raw', y='logFDR_enhanced', hue='pair_type', \n",
    "                palette={'Shared': c_list[1], 'Specific': c_list[2], 'Not Significant': c_list[0]}, alpha=0.5, legend=False)\n",
    "plt.legend(title='Pair Type', loc='center left', bbox_to_anchor=(1, 0.5))\n",
    "\n",
    "plt.axhline(y=-np.log10(0.05), linestyle='--', color='grey')\n",
    "plt.axvline(x=-np.log10(0.05), linestyle='--', color='grey')\n",
    "plt.title(\"Scatter plot of L-R pairs\")\n",
    "plt.xlabel(\"-log10(FDR) in raw data\")\n",
    "plt.ylabel(\"-log10(FDR) in enhanced data\")\n",
    "## set legend to outside the plot\n",
    "plt.legend(title='Pair Type', loc='best', framealpha=0.6)\n",
    "# plt.legend(title='Pair Type', loc='center left', bbox_to_anchor=(1, 0.5))\n",
    "plt.savefig('./figs/Nanostring/LR_pair_visualization.png', dpi=500)\n",
    "plt.show()"
   ]
  },
  {
   "cell_type": "code",
   "execution_count": 40,
   "metadata": {},
   "outputs": [
    {
     "data": {
      "text/html": [
       "<div>\n",
       "<style scoped>\n",
       "    .dataframe tbody tr th:only-of-type {\n",
       "        vertical-align: middle;\n",
       "    }\n",
       "\n",
       "    .dataframe tbody tr th {\n",
       "        vertical-align: top;\n",
       "    }\n",
       "\n",
       "    .dataframe thead th {\n",
       "        text-align: right;\n",
       "    }\n",
       "</style>\n",
       "<table border=\"1\" class=\"dataframe\">\n",
       "  <thead>\n",
       "    <tr style=\"text-align: right;\">\n",
       "      <th></th>\n",
       "      <th>LR_pair</th>\n",
       "      <th>p_value</th>\n",
       "      <th>p_value_enhanced</th>\n",
       "      <th>FDR_raw</th>\n",
       "      <th>FDR_enhanced</th>\n",
       "      <th>logFDR_raw</th>\n",
       "      <th>logFDR_enhanced</th>\n",
       "      <th>Shared</th>\n",
       "      <th>Specific</th>\n",
       "      <th>Not Significant</th>\n",
       "      <th>pair_type</th>\n",
       "      <th>specific_enhanced</th>\n",
       "    </tr>\n",
       "  </thead>\n",
       "  <tbody>\n",
       "    <tr>\n",
       "      <th>0</th>\n",
       "      <td>ADM2_RAMP1</td>\n",
       "      <td>4.539310e-180</td>\n",
       "      <td>0.000000e+00</td>\n",
       "      <td>9.556442e-180</td>\n",
       "      <td>0.000000e+00</td>\n",
       "      <td>10.000000</td>\n",
       "      <td>10.0</td>\n",
       "      <td>True</td>\n",
       "      <td>False</td>\n",
       "      <td>False</td>\n",
       "      <td>Shared</td>\n",
       "      <td>False</td>\n",
       "    </tr>\n",
       "    <tr>\n",
       "      <th>1</th>\n",
       "      <td>ANGPT1_ITGA5</td>\n",
       "      <td>0.000000e+00</td>\n",
       "      <td>0.000000e+00</td>\n",
       "      <td>0.000000e+00</td>\n",
       "      <td>0.000000e+00</td>\n",
       "      <td>10.000000</td>\n",
       "      <td>10.0</td>\n",
       "      <td>True</td>\n",
       "      <td>False</td>\n",
       "      <td>False</td>\n",
       "      <td>Shared</td>\n",
       "      <td>False</td>\n",
       "    </tr>\n",
       "    <tr>\n",
       "      <th>2</th>\n",
       "      <td>ANGPT1_TEK</td>\n",
       "      <td>5.220943e-01</td>\n",
       "      <td>1.642648e-97</td>\n",
       "      <td>5.332027e-01</td>\n",
       "      <td>1.886295e-97</td>\n",
       "      <td>0.273108</td>\n",
       "      <td>10.0</td>\n",
       "      <td>False</td>\n",
       "      <td>True</td>\n",
       "      <td>False</td>\n",
       "      <td>Specific</td>\n",
       "      <td>True</td>\n",
       "    </tr>\n",
       "    <tr>\n",
       "      <th>3</th>\n",
       "      <td>ANGPT1_TIE1</td>\n",
       "      <td>2.302613e-30</td>\n",
       "      <td>0.000000e+00</td>\n",
       "      <td>3.131032e-30</td>\n",
       "      <td>0.000000e+00</td>\n",
       "      <td>10.000000</td>\n",
       "      <td>10.0</td>\n",
       "      <td>True</td>\n",
       "      <td>False</td>\n",
       "      <td>False</td>\n",
       "      <td>Shared</td>\n",
       "      <td>False</td>\n",
       "    </tr>\n",
       "    <tr>\n",
       "      <th>4</th>\n",
       "      <td>ANGPT2_TEK</td>\n",
       "      <td>4.105715e-37</td>\n",
       "      <td>1.349414e-156</td>\n",
       "      <td>5.745607e-37</td>\n",
       "      <td>1.623355e-156</td>\n",
       "      <td>10.000000</td>\n",
       "      <td>10.0</td>\n",
       "      <td>True</td>\n",
       "      <td>False</td>\n",
       "      <td>False</td>\n",
       "      <td>Shared</td>\n",
       "      <td>False</td>\n",
       "    </tr>\n",
       "  </tbody>\n",
       "</table>\n",
       "</div>"
      ],
      "text/plain": [
       "        LR_pair        p_value  p_value_enhanced        FDR_raw  \\\n",
       "0    ADM2_RAMP1  4.539310e-180      0.000000e+00  9.556442e-180   \n",
       "1  ANGPT1_ITGA5   0.000000e+00      0.000000e+00   0.000000e+00   \n",
       "2    ANGPT1_TEK   5.220943e-01      1.642648e-97   5.332027e-01   \n",
       "3   ANGPT1_TIE1   2.302613e-30      0.000000e+00   3.131032e-30   \n",
       "4    ANGPT2_TEK   4.105715e-37     1.349414e-156   5.745607e-37   \n",
       "\n",
       "    FDR_enhanced  logFDR_raw  logFDR_enhanced  Shared  Specific  \\\n",
       "0   0.000000e+00   10.000000             10.0    True     False   \n",
       "1   0.000000e+00   10.000000             10.0    True     False   \n",
       "2   1.886295e-97    0.273108             10.0   False      True   \n",
       "3   0.000000e+00   10.000000             10.0    True     False   \n",
       "4  1.623355e-156   10.000000             10.0    True     False   \n",
       "\n",
       "   Not Significant pair_type  specific_enhanced  \n",
       "0            False    Shared              False  \n",
       "1            False    Shared              False  \n",
       "2            False  Specific               True  \n",
       "3            False    Shared              False  \n",
       "4            False    Shared              False  "
      ]
     },
     "execution_count": 40,
     "metadata": {},
     "output_type": "execute_result"
    }
   ],
   "source": [
    "import pandas as pd\n",
    "\n",
    "df = pd.read_csv('figs/Nanostring/25-3-17/LR_pair_FDR.csv')\n",
    "df.head()"
   ]
  },
  {
   "cell_type": "code",
   "execution_count": 41,
   "metadata": {},
   "outputs": [
    {
     "name": "stdout",
     "output_type": "stream",
     "text": [
      "region\n",
      "top-right       452\n",
      "top-left         21\n",
      "bottom-right      6\n",
      "bottom-left       1\n",
      "Name: count, dtype: int64\n"
     ]
    }
   ],
   "source": [
    "import numpy as np\n",
    "thred = -np.log10(0.05)\n",
    "conditions = [\n",
    "    (df['logFDR_raw'] <= thred) & (df['logFDR_enhanced'] <= thred),  # 左下\n",
    "    (df['logFDR_raw'] <= thred) & (df['logFDR_enhanced'] > thred),   # 左上\n",
    "    (df['logFDR_raw'] > thred) & (df['logFDR_enhanced'] <= thred),   # 右下\n",
    "    (df['logFDR_raw'] > thred) & (df['logFDR_enhanced'] > thred)     # 右上\n",
    "]\n",
    "choices = ['bottom-left', 'top-left', 'bottom-right', 'top-right']\n",
    "df['region'] = np.select(conditions, choices, default='unknown')\n",
    "\n",
    "# 统计各区域数量\n",
    "counts = df['region'].value_counts()\n",
    "print(counts)"
   ]
  }
 ],
 "metadata": {
  "kernelspec": {
   "display_name": "GraphST",
   "language": "python",
   "name": "python3"
  },
  "language_info": {
   "codemirror_mode": {
    "name": "ipython",
    "version": 3
   },
   "file_extension": ".py",
   "mimetype": "text/x-python",
   "name": "python",
   "nbconvert_exporter": "python",
   "pygments_lexer": "ipython3",
   "version": "3.8.19"
  }
 },
 "nbformat": 4,
 "nbformat_minor": 2
}
